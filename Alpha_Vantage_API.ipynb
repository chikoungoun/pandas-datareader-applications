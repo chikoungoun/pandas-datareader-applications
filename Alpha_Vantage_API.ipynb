{
 "cells": [
  {
   "cell_type": "markdown",
   "metadata": {},
   "source": [
    "# Alpha Vantage API Introduction"
   ]
  },
  {
   "cell_type": "markdown",
   "metadata": {},
   "source": [
    "# Stock time Series"
   ]
  },
  {
   "cell_type": "code",
   "execution_count": 1,
   "metadata": {},
   "outputs": [],
   "source": [
    "import pandas as pd\n",
    "import numpy as np"
   ]
  },
  {
   "cell_type": "markdown",
   "metadata": {},
   "source": [
    "### Import the timeseries fucntions from the alpha vantage module"
   ]
  },
  {
   "cell_type": "code",
   "execution_count": 2,
   "metadata": {},
   "outputs": [],
   "source": [
    "from alpha_vantage.timeseries import TimeSeries"
   ]
  },
  {
   "cell_type": "markdown",
   "metadata": {},
   "source": [
    "### Define the api key that you'll get by visisting the website : https://www.alphavantage.co/support/#api-key"
   ]
  },
  {
   "cell_type": "code",
   "execution_count": 3,
   "metadata": {},
   "outputs": [],
   "source": [
    "api_key = open('alpha_vantage_apikey.txt','r').read()"
   ]
  },
  {
   "cell_type": "markdown",
   "metadata": {},
   "source": [
    "### initialize the api key and the format type"
   ]
  },
  {
   "cell_type": "code",
   "execution_count": 4,
   "metadata": {},
   "outputs": [],
   "source": [
    "ts = TimeSeries(key=api_key,output_format='pandas')"
   ]
  },
  {
   "cell_type": "markdown",
   "metadata": {},
   "source": [
    "## Daily time series : "
   ]
  },
  {
   "cell_type": "markdown",
   "metadata": {},
   "source": [
    "**get_daily()** returns daily time series up to 20 years. Here it returns a tuple; a **pandas Dataframe**, and a **dictionary**"
   ]
  },
  {
   "cell_type": "code",
   "execution_count": 20,
   "metadata": {},
   "outputs": [],
   "source": [
    "df,o = ts.get_daily(symbol='SBUX',outputsize='full')#getting the daily data of the starbucks stock"
   ]
  },
  {
   "cell_type": "markdown",
   "metadata": {},
   "source": [
    "- **symbol** : the stock symbol on the market.(ex: Starbucks / SBUX)\n",
    "- **outputsize ** : defines the amount of data we want to retrieve. Setting **full** will return up to 20 years worth of data. With **compact**, we retrieve the last 100 entries. By default **compact**"
   ]
  },
  {
   "cell_type": "code",
   "execution_count": 21,
   "metadata": {},
   "outputs": [
    {
     "data": {
      "text/html": [
       "<div>\n",
       "<style>\n",
       "    .dataframe thead tr:only-child th {\n",
       "        text-align: right;\n",
       "    }\n",
       "\n",
       "    .dataframe thead th {\n",
       "        text-align: left;\n",
       "    }\n",
       "\n",
       "    .dataframe tbody tr th {\n",
       "        vertical-align: top;\n",
       "    }\n",
       "</style>\n",
       "<table border=\"1\" class=\"dataframe\">\n",
       "  <thead>\n",
       "    <tr style=\"text-align: right;\">\n",
       "      <th></th>\n",
       "      <th>1. open</th>\n",
       "      <th>2. high</th>\n",
       "      <th>3. low</th>\n",
       "      <th>4. close</th>\n",
       "      <th>5. volume</th>\n",
       "    </tr>\n",
       "    <tr>\n",
       "      <th>date</th>\n",
       "      <th></th>\n",
       "      <th></th>\n",
       "      <th></th>\n",
       "      <th></th>\n",
       "      <th></th>\n",
       "    </tr>\n",
       "  </thead>\n",
       "  <tbody>\n",
       "    <tr>\n",
       "      <th>1998-01-02</th>\n",
       "      <td>38.38</td>\n",
       "      <td>38.63</td>\n",
       "      <td>37.31</td>\n",
       "      <td>37.63</td>\n",
       "      <td>651100.0</td>\n",
       "    </tr>\n",
       "    <tr>\n",
       "      <th>1998-01-05</th>\n",
       "      <td>37.63</td>\n",
       "      <td>37.78</td>\n",
       "      <td>36.75</td>\n",
       "      <td>37.13</td>\n",
       "      <td>700600.0</td>\n",
       "    </tr>\n",
       "    <tr>\n",
       "      <th>1998-01-06</th>\n",
       "      <td>37.13</td>\n",
       "      <td>37.38</td>\n",
       "      <td>35.56</td>\n",
       "      <td>35.69</td>\n",
       "      <td>1230800.0</td>\n",
       "    </tr>\n",
       "    <tr>\n",
       "      <th>1998-01-07</th>\n",
       "      <td>35.50</td>\n",
       "      <td>36.44</td>\n",
       "      <td>34.25</td>\n",
       "      <td>34.69</td>\n",
       "      <td>2164200.0</td>\n",
       "    </tr>\n",
       "    <tr>\n",
       "      <th>1998-01-08</th>\n",
       "      <td>34.56</td>\n",
       "      <td>36.00</td>\n",
       "      <td>34.00</td>\n",
       "      <td>35.75</td>\n",
       "      <td>1692800.0</td>\n",
       "    </tr>\n",
       "  </tbody>\n",
       "</table>\n",
       "</div>"
      ],
      "text/plain": [
       "            1. open  2. high  3. low  4. close  5. volume\n",
       "date                                                     \n",
       "1998-01-02    38.38    38.63   37.31     37.63   651100.0\n",
       "1998-01-05    37.63    37.78   36.75     37.13   700600.0\n",
       "1998-01-06    37.13    37.38   35.56     35.69  1230800.0\n",
       "1998-01-07    35.50    36.44   34.25     34.69  2164200.0\n",
       "1998-01-08    34.56    36.00   34.00     35.75  1692800.0"
      ]
     },
     "execution_count": 21,
     "metadata": {},
     "output_type": "execute_result"
    }
   ],
   "source": [
    "df.head()"
   ]
  },
  {
   "cell_type": "code",
   "execution_count": 11,
   "metadata": {},
   "outputs": [
    {
     "data": {
      "text/html": [
       "<div>\n",
       "<style>\n",
       "    .dataframe thead tr:only-child th {\n",
       "        text-align: right;\n",
       "    }\n",
       "\n",
       "    .dataframe thead th {\n",
       "        text-align: left;\n",
       "    }\n",
       "\n",
       "    .dataframe tbody tr th {\n",
       "        vertical-align: top;\n",
       "    }\n",
       "</style>\n",
       "<table border=\"1\" class=\"dataframe\">\n",
       "  <thead>\n",
       "    <tr style=\"text-align: right;\">\n",
       "      <th></th>\n",
       "      <th>1. open</th>\n",
       "      <th>2. high</th>\n",
       "      <th>3. low</th>\n",
       "      <th>4. close</th>\n",
       "      <th>5. volume</th>\n",
       "    </tr>\n",
       "    <tr>\n",
       "      <th>date</th>\n",
       "      <th></th>\n",
       "      <th></th>\n",
       "      <th></th>\n",
       "      <th></th>\n",
       "      <th></th>\n",
       "    </tr>\n",
       "  </thead>\n",
       "  <tbody>\n",
       "    <tr>\n",
       "      <th>2018-11-12</th>\n",
       "      <td>42.50</td>\n",
       "      <td>42.84</td>\n",
       "      <td>41.2800</td>\n",
       "      <td>41.89</td>\n",
       "      <td>4512830.0</td>\n",
       "    </tr>\n",
       "    <tr>\n",
       "      <th>2018-11-13</th>\n",
       "      <td>42.21</td>\n",
       "      <td>42.86</td>\n",
       "      <td>41.9801</td>\n",
       "      <td>42.55</td>\n",
       "      <td>3953012.0</td>\n",
       "    </tr>\n",
       "    <tr>\n",
       "      <th>2018-11-14</th>\n",
       "      <td>43.13</td>\n",
       "      <td>43.93</td>\n",
       "      <td>42.4090</td>\n",
       "      <td>42.72</td>\n",
       "      <td>3726019.0</td>\n",
       "    </tr>\n",
       "    <tr>\n",
       "      <th>2018-11-15</th>\n",
       "      <td>42.40</td>\n",
       "      <td>44.24</td>\n",
       "      <td>42.2100</td>\n",
       "      <td>43.86</td>\n",
       "      <td>3509715.0</td>\n",
       "    </tr>\n",
       "    <tr>\n",
       "      <th>2018-11-16</th>\n",
       "      <td>43.36</td>\n",
       "      <td>43.73</td>\n",
       "      <td>42.5600</td>\n",
       "      <td>43.30</td>\n",
       "      <td>4290871.0</td>\n",
       "    </tr>\n",
       "  </tbody>\n",
       "</table>\n",
       "</div>"
      ],
      "text/plain": [
       "            1. open  2. high   3. low  4. close  5. volume\n",
       "date                                                      \n",
       "2018-11-12    42.50    42.84  41.2800     41.89  4512830.0\n",
       "2018-11-13    42.21    42.86  41.9801     42.55  3953012.0\n",
       "2018-11-14    43.13    43.93  42.4090     42.72  3726019.0\n",
       "2018-11-15    42.40    44.24  42.2100     43.86  3509715.0\n",
       "2018-11-16    43.36    43.73  42.5600     43.30  4290871.0"
      ]
     },
     "execution_count": 11,
     "metadata": {},
     "output_type": "execute_result"
    }
   ],
   "source": [
    "df.tail()"
   ]
  },
  {
   "cell_type": "markdown",
   "metadata": {},
   "source": [
    "**Meta data dictionary**"
   ]
  },
  {
   "cell_type": "code",
   "execution_count": 23,
   "metadata": {},
   "outputs": [
    {
     "data": {
      "text/plain": [
       "{'1. Information': 'Daily Prices (open, high, low, close) and Volumes',\n",
       " '2. Symbol': 'SBUX',\n",
       " '3. Last Refreshed': '2018-11-16',\n",
       " '4. Output Size': 'Full size',\n",
       " '5. Time Zone': 'US/Eastern'}"
      ]
     },
     "execution_count": 23,
     "metadata": {},
     "output_type": "execute_result"
    }
   ],
   "source": [
    "o"
   ]
  },
  {
   "cell_type": "markdown",
   "metadata": {},
   "source": [
    "## <u>Weekly Time Series</u>"
   ]
  },
  {
   "cell_type": "markdown",
   "metadata": {},
   "source": [
    "returns last trading day of each week"
   ]
  },
  {
   "cell_type": "code",
   "execution_count": 26,
   "metadata": {},
   "outputs": [],
   "source": [
    "w,wd = ts.get_weekly(symbol='SBUX')"
   ]
  },
  {
   "cell_type": "markdown",
   "metadata": {},
   "source": [
    "**Metadata**"
   ]
  },
  {
   "cell_type": "code",
   "execution_count": 27,
   "metadata": {},
   "outputs": [
    {
     "data": {
      "text/plain": [
       "{'1. Information': 'Weekly Prices (open, high, low, close) and Volumes',\n",
       " '2. Symbol': 'SBUX',\n",
       " '3. Last Refreshed': '2018-11-16',\n",
       " '4. Time Zone': 'US/Eastern'}"
      ]
     },
     "execution_count": 27,
     "metadata": {},
     "output_type": "execute_result"
    }
   ],
   "source": [
    "wd"
   ]
  },
  {
   "cell_type": "code",
   "execution_count": 30,
   "metadata": {},
   "outputs": [
    {
     "data": {
      "text/html": [
       "<div>\n",
       "<style>\n",
       "    .dataframe thead tr:only-child th {\n",
       "        text-align: right;\n",
       "    }\n",
       "\n",
       "    .dataframe thead th {\n",
       "        text-align: left;\n",
       "    }\n",
       "\n",
       "    .dataframe tbody tr th {\n",
       "        vertical-align: top;\n",
       "    }\n",
       "</style>\n",
       "<table border=\"1\" class=\"dataframe\">\n",
       "  <thead>\n",
       "    <tr style=\"text-align: right;\">\n",
       "      <th></th>\n",
       "      <th>1. open</th>\n",
       "      <th>2. high</th>\n",
       "      <th>3. low</th>\n",
       "      <th>4. close</th>\n",
       "      <th>5. volume</th>\n",
       "    </tr>\n",
       "    <tr>\n",
       "      <th>date</th>\n",
       "      <th></th>\n",
       "      <th></th>\n",
       "      <th></th>\n",
       "      <th></th>\n",
       "      <th></th>\n",
       "    </tr>\n",
       "  </thead>\n",
       "  <tbody>\n",
       "    <tr>\n",
       "      <th>1998-01-09</th>\n",
       "      <td>37.63</td>\n",
       "      <td>37.78</td>\n",
       "      <td>34.00</td>\n",
       "      <td>35.13</td>\n",
       "      <td>6509000.0</td>\n",
       "    </tr>\n",
       "    <tr>\n",
       "      <th>1998-01-16</th>\n",
       "      <td>34.50</td>\n",
       "      <td>35.63</td>\n",
       "      <td>33.75</td>\n",
       "      <td>34.03</td>\n",
       "      <td>3759100.0</td>\n",
       "    </tr>\n",
       "    <tr>\n",
       "      <th>1998-01-23</th>\n",
       "      <td>34.25</td>\n",
       "      <td>36.50</td>\n",
       "      <td>33.63</td>\n",
       "      <td>34.88</td>\n",
       "      <td>4463500.0</td>\n",
       "    </tr>\n",
       "    <tr>\n",
       "      <th>1998-01-30</th>\n",
       "      <td>35.13</td>\n",
       "      <td>37.13</td>\n",
       "      <td>33.13</td>\n",
       "      <td>36.56</td>\n",
       "      <td>5925400.0</td>\n",
       "    </tr>\n",
       "    <tr>\n",
       "      <th>1998-02-06</th>\n",
       "      <td>37.00</td>\n",
       "      <td>39.13</td>\n",
       "      <td>36.69</td>\n",
       "      <td>38.13</td>\n",
       "      <td>4771700.0</td>\n",
       "    </tr>\n",
       "  </tbody>\n",
       "</table>\n",
       "</div>"
      ],
      "text/plain": [
       "            1. open  2. high  3. low  4. close  5. volume\n",
       "date                                                     \n",
       "1998-01-09    37.63    37.78   34.00     35.13  6509000.0\n",
       "1998-01-16    34.50    35.63   33.75     34.03  3759100.0\n",
       "1998-01-23    34.25    36.50   33.63     34.88  4463500.0\n",
       "1998-01-30    35.13    37.13   33.13     36.56  5925400.0\n",
       "1998-02-06    37.00    39.13   36.69     38.13  4771700.0"
      ]
     },
     "execution_count": 30,
     "metadata": {},
     "output_type": "execute_result"
    }
   ],
   "source": [
    "w.head()"
   ]
  },
  {
   "cell_type": "markdown",
   "metadata": {},
   "source": [
    "## <u>Monthly Time Series</u>"
   ]
  },
  {
   "cell_type": "markdown",
   "metadata": {},
   "source": [
    "Returns last trading day of each month"
   ]
  },
  {
   "cell_type": "code",
   "execution_count": 32,
   "metadata": {},
   "outputs": [],
   "source": [
    "m,md = ts.get_monthly(symbol='SBUX')"
   ]
  },
  {
   "cell_type": "code",
   "execution_count": 33,
   "metadata": {},
   "outputs": [
    {
     "data": {
      "text/html": [
       "<div>\n",
       "<style>\n",
       "    .dataframe thead tr:only-child th {\n",
       "        text-align: right;\n",
       "    }\n",
       "\n",
       "    .dataframe thead th {\n",
       "        text-align: left;\n",
       "    }\n",
       "\n",
       "    .dataframe tbody tr th {\n",
       "        vertical-align: top;\n",
       "    }\n",
       "</style>\n",
       "<table border=\"1\" class=\"dataframe\">\n",
       "  <thead>\n",
       "    <tr style=\"text-align: right;\">\n",
       "      <th></th>\n",
       "      <th>1. open</th>\n",
       "      <th>2. high</th>\n",
       "      <th>3. low</th>\n",
       "      <th>4. close</th>\n",
       "      <th>5. volume</th>\n",
       "    </tr>\n",
       "    <tr>\n",
       "      <th>date</th>\n",
       "      <th></th>\n",
       "      <th></th>\n",
       "      <th></th>\n",
       "      <th></th>\n",
       "      <th></th>\n",
       "    </tr>\n",
       "  </thead>\n",
       "  <tbody>\n",
       "    <tr>\n",
       "      <th>1998-02-27</th>\n",
       "      <td>37.00</td>\n",
       "      <td>40.13</td>\n",
       "      <td>36.00</td>\n",
       "      <td>39.56</td>\n",
       "      <td>19373700.0</td>\n",
       "    </tr>\n",
       "    <tr>\n",
       "      <th>1998-03-31</th>\n",
       "      <td>39.56</td>\n",
       "      <td>46.44</td>\n",
       "      <td>38.13</td>\n",
       "      <td>45.31</td>\n",
       "      <td>18562900.0</td>\n",
       "    </tr>\n",
       "    <tr>\n",
       "      <th>1998-04-30</th>\n",
       "      <td>45.38</td>\n",
       "      <td>49.00</td>\n",
       "      <td>42.50</td>\n",
       "      <td>48.13</td>\n",
       "      <td>20675700.0</td>\n",
       "    </tr>\n",
       "    <tr>\n",
       "      <th>1998-05-29</th>\n",
       "      <td>48.25</td>\n",
       "      <td>49.88</td>\n",
       "      <td>44.50</td>\n",
       "      <td>48.00</td>\n",
       "      <td>14596100.0</td>\n",
       "    </tr>\n",
       "    <tr>\n",
       "      <th>1998-06-30</th>\n",
       "      <td>47.63</td>\n",
       "      <td>54.75</td>\n",
       "      <td>46.56</td>\n",
       "      <td>53.44</td>\n",
       "      <td>22684400.0</td>\n",
       "    </tr>\n",
       "  </tbody>\n",
       "</table>\n",
       "</div>"
      ],
      "text/plain": [
       "            1. open  2. high  3. low  4. close   5. volume\n",
       "date                                                      \n",
       "1998-02-27    37.00    40.13   36.00     39.56  19373700.0\n",
       "1998-03-31    39.56    46.44   38.13     45.31  18562900.0\n",
       "1998-04-30    45.38    49.00   42.50     48.13  20675700.0\n",
       "1998-05-29    48.25    49.88   44.50     48.00  14596100.0\n",
       "1998-06-30    47.63    54.75   46.56     53.44  22684400.0"
      ]
     },
     "execution_count": 33,
     "metadata": {},
     "output_type": "execute_result"
    }
   ],
   "source": [
    "m.head()"
   ]
  },
  {
   "cell_type": "code",
   "execution_count": null,
   "metadata": {},
   "outputs": [],
   "source": []
  }
 ],
 "metadata": {
  "kernelspec": {
   "display_name": "Python 3",
   "language": "python",
   "name": "python3"
  },
  "language_info": {
   "codemirror_mode": {
    "name": "ipython",
    "version": 3
   },
   "file_extension": ".py",
   "mimetype": "text/x-python",
   "name": "python",
   "nbconvert_exporter": "python",
   "pygments_lexer": "ipython3",
   "version": "3.6.1"
  }
 },
 "nbformat": 4,
 "nbformat_minor": 2
}
