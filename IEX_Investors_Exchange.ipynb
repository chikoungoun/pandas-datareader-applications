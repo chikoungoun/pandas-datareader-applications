{
 "cells": [
  {
   "cell_type": "markdown",
   "metadata": {},
   "source": [
    "# Acces Financial Data through 'iex' API with Pandas_datareader"
   ]
  },
  {
   "cell_type": "markdown",
   "metadata": {},
   "source": [
    "Visualizing data analysis of stock prices"
   ]
  },
  {
   "cell_type": "markdown",
   "metadata": {},
   "source": [
    "### Imports"
   ]
  },
  {
   "cell_type": "code",
   "execution_count": 1,
   "metadata": {},
   "outputs": [],
   "source": [
    "#classics\n",
    "import pandas as pd\n",
    "import numpy as np"
   ]
  },
  {
   "cell_type": "code",
   "execution_count": 2,
   "metadata": {},
   "outputs": [],
   "source": [
    "#import pandas_datareader to acces the finance APIs\n",
    "import pandas_datareader.data as web\n",
    "import datetime"
   ]
  },
  {
   "cell_type": "markdown",
   "metadata": {},
   "source": [
    "### IEX only allows to get the data up to 5 years "
   ]
  },
  {
   "cell_type": "code",
   "execution_count": 3,
   "metadata": {},
   "outputs": [],
   "source": [
    "#define  the time interval \n",
    "start = datetime.datetime(2014,1,1)\n",
    "end = datetime.datetime(2016,1,1)"
   ]
  },
  {
   "cell_type": "markdown",
   "metadata": {},
   "source": [
    "### Get the Data"
   ]
  },
  {
   "cell_type": "markdown",
   "metadata": {},
   "source": [
    "We will be using the stock index of **Ford**, **Apple** and **Starbucks** during the defined timelapse"
   ]
  },
  {
   "cell_type": "markdown",
   "metadata": {},
   "source": [
    "**Ford Data : **"
   ]
  },
  {
   "cell_type": "code",
   "execution_count": 4,
   "metadata": {},
   "outputs": [],
   "source": [
    "f = web.DataReader('F', 'iex', start, end)"
   ]
  },
  {
   "cell_type": "code",
   "execution_count": 5,
   "metadata": {
    "scrolled": false
   },
   "outputs": [
    {
     "data": {
      "text/html": [
       "<div>\n",
       "<style>\n",
       "    .dataframe thead tr:only-child th {\n",
       "        text-align: right;\n",
       "    }\n",
       "\n",
       "    .dataframe thead th {\n",
       "        text-align: left;\n",
       "    }\n",
       "\n",
       "    .dataframe tbody tr th {\n",
       "        vertical-align: top;\n",
       "    }\n",
       "</style>\n",
       "<table border=\"1\" class=\"dataframe\">\n",
       "  <thead>\n",
       "    <tr style=\"text-align: right;\">\n",
       "      <th></th>\n",
       "      <th>open</th>\n",
       "      <th>high</th>\n",
       "      <th>low</th>\n",
       "      <th>close</th>\n",
       "      <th>volume</th>\n",
       "    </tr>\n",
       "    <tr>\n",
       "      <th>date</th>\n",
       "      <th></th>\n",
       "      <th></th>\n",
       "      <th></th>\n",
       "      <th></th>\n",
       "      <th></th>\n",
       "    </tr>\n",
       "  </thead>\n",
       "  <tbody>\n",
       "    <tr>\n",
       "      <th>2014-01-02</th>\n",
       "      <td>11.8603</td>\n",
       "      <td>11.8833</td>\n",
       "      <td>11.7526</td>\n",
       "      <td>11.8756</td>\n",
       "      <td>31544161</td>\n",
       "    </tr>\n",
       "    <tr>\n",
       "      <th>2014-01-03</th>\n",
       "      <td>11.9372</td>\n",
       "      <td>12.0295</td>\n",
       "      <td>11.7680</td>\n",
       "      <td>11.9295</td>\n",
       "      <td>46128798</td>\n",
       "    </tr>\n",
       "    <tr>\n",
       "      <th>2014-01-06</th>\n",
       "      <td>12.0910</td>\n",
       "      <td>12.1218</td>\n",
       "      <td>11.9372</td>\n",
       "      <td>11.9833</td>\n",
       "      <td>42672711</td>\n",
       "    </tr>\n",
       "    <tr>\n",
       "      <th>2014-01-07</th>\n",
       "      <td>12.0987</td>\n",
       "      <td>12.1064</td>\n",
       "      <td>11.8064</td>\n",
       "      <td>11.8295</td>\n",
       "      <td>54797493</td>\n",
       "    </tr>\n",
       "    <tr>\n",
       "      <th>2014-01-08</th>\n",
       "      <td>11.9987</td>\n",
       "      <td>12.0833</td>\n",
       "      <td>11.9295</td>\n",
       "      <td>11.9525</td>\n",
       "      <td>48519024</td>\n",
       "    </tr>\n",
       "    <tr>\n",
       "      <th>2014-01-09</th>\n",
       "      <td>12.1756</td>\n",
       "      <td>12.3217</td>\n",
       "      <td>12.1295</td>\n",
       "      <td>12.1833</td>\n",
       "      <td>68016443</td>\n",
       "    </tr>\n",
       "    <tr>\n",
       "      <th>2014-01-10</th>\n",
       "      <td>12.3140</td>\n",
       "      <td>12.3910</td>\n",
       "      <td>12.2602</td>\n",
       "      <td>12.3602</td>\n",
       "      <td>45141418</td>\n",
       "    </tr>\n",
       "    <tr>\n",
       "      <th>2014-01-13</th>\n",
       "      <td>12.5909</td>\n",
       "      <td>12.7140</td>\n",
       "      <td>12.3679</td>\n",
       "      <td>12.3910</td>\n",
       "      <td>57736069</td>\n",
       "    </tr>\n",
       "    <tr>\n",
       "      <th>2014-01-14</th>\n",
       "      <td>12.5448</td>\n",
       "      <td>12.6371</td>\n",
       "      <td>12.4371</td>\n",
       "      <td>12.6140</td>\n",
       "      <td>44158912</td>\n",
       "    </tr>\n",
       "    <tr>\n",
       "      <th>2014-01-15</th>\n",
       "      <td>12.5909</td>\n",
       "      <td>12.8678</td>\n",
       "      <td>12.5756</td>\n",
       "      <td>12.8448</td>\n",
       "      <td>64167826</td>\n",
       "    </tr>\n",
       "  </tbody>\n",
       "</table>\n",
       "</div>"
      ],
      "text/plain": [
       "               open     high      low    close    volume\n",
       "date                                                    \n",
       "2014-01-02  11.8603  11.8833  11.7526  11.8756  31544161\n",
       "2014-01-03  11.9372  12.0295  11.7680  11.9295  46128798\n",
       "2014-01-06  12.0910  12.1218  11.9372  11.9833  42672711\n",
       "2014-01-07  12.0987  12.1064  11.8064  11.8295  54797493\n",
       "2014-01-08  11.9987  12.0833  11.9295  11.9525  48519024\n",
       "2014-01-09  12.1756  12.3217  12.1295  12.1833  68016443\n",
       "2014-01-10  12.3140  12.3910  12.2602  12.3602  45141418\n",
       "2014-01-13  12.5909  12.7140  12.3679  12.3910  57736069\n",
       "2014-01-14  12.5448  12.6371  12.4371  12.6140  44158912\n",
       "2014-01-15  12.5909  12.8678  12.5756  12.8448  64167826"
      ]
     },
     "execution_count": 5,
     "metadata": {},
     "output_type": "execute_result"
    }
   ],
   "source": [
    "f.head(10)"
   ]
  },
  {
   "cell_type": "markdown",
   "metadata": {},
   "source": [
    "visualize the evolution of 'highs' throughout the 30 first days"
   ]
  },
  {
   "cell_type": "code",
   "execution_count": 6,
   "metadata": {},
   "outputs": [
    {
     "data": {
      "text/plain": [
       "<matplotlib.axes._subplots.AxesSubplot at 0x7bfbb70>"
      ]
     },
     "execution_count": 6,
     "metadata": {},
     "output_type": "execute_result"
    }
   ],
   "source": [
    "f['high'].head(30).plot.line()"
   ]
  },
  {
   "cell_type": "markdown",
   "metadata": {},
   "source": [
    "**Apple Data : **"
   ]
  },
  {
   "cell_type": "code",
   "execution_count": 7,
   "metadata": {},
   "outputs": [],
   "source": [
    "apple = web.DataReader('AAPL','iex',start,end)"
   ]
  },
  {
   "cell_type": "code",
   "execution_count": 8,
   "metadata": {
    "scrolled": true
   },
   "outputs": [
    {
     "data": {
      "text/html": [
       "<div>\n",
       "<style>\n",
       "    .dataframe thead tr:only-child th {\n",
       "        text-align: right;\n",
       "    }\n",
       "\n",
       "    .dataframe thead th {\n",
       "        text-align: left;\n",
       "    }\n",
       "\n",
       "    .dataframe tbody tr th {\n",
       "        vertical-align: top;\n",
       "    }\n",
       "</style>\n",
       "<table border=\"1\" class=\"dataframe\">\n",
       "  <thead>\n",
       "    <tr style=\"text-align: right;\">\n",
       "      <th></th>\n",
       "      <th>open</th>\n",
       "      <th>high</th>\n",
       "      <th>low</th>\n",
       "      <th>close</th>\n",
       "      <th>volume</th>\n",
       "    </tr>\n",
       "    <tr>\n",
       "      <th>date</th>\n",
       "      <th></th>\n",
       "      <th></th>\n",
       "      <th></th>\n",
       "      <th></th>\n",
       "      <th></th>\n",
       "    </tr>\n",
       "  </thead>\n",
       "  <tbody>\n",
       "    <tr>\n",
       "      <th>2014-01-02</th>\n",
       "      <td>72.8554</td>\n",
       "      <td>73.0324</td>\n",
       "      <td>72.3757</td>\n",
       "      <td>72.5211</td>\n",
       "      <td>58791957</td>\n",
       "    </tr>\n",
       "    <tr>\n",
       "      <th>2014-01-03</th>\n",
       "      <td>72.4857</td>\n",
       "      <td>72.5958</td>\n",
       "      <td>70.8560</td>\n",
       "      <td>70.9281</td>\n",
       "      <td>98303870</td>\n",
       "    </tr>\n",
       "    <tr>\n",
       "      <th>2014-01-06</th>\n",
       "      <td>70.4653</td>\n",
       "      <td>71.6912</td>\n",
       "      <td>69.9605</td>\n",
       "      <td>71.3149</td>\n",
       "      <td>103359151</td>\n",
       "    </tr>\n",
       "    <tr>\n",
       "      <th>2014-01-07</th>\n",
       "      <td>71.3660</td>\n",
       "      <td>71.5811</td>\n",
       "      <td>70.5276</td>\n",
       "      <td>70.8046</td>\n",
       "      <td>79432766</td>\n",
       "    </tr>\n",
       "    <tr>\n",
       "      <th>2014-01-08</th>\n",
       "      <td>70.6436</td>\n",
       "      <td>71.5286</td>\n",
       "      <td>70.6279</td>\n",
       "      <td>71.2533</td>\n",
       "      <td>64686685</td>\n",
       "    </tr>\n",
       "  </tbody>\n",
       "</table>\n",
       "</div>"
      ],
      "text/plain": [
       "               open     high      low    close     volume\n",
       "date                                                     \n",
       "2014-01-02  72.8554  73.0324  72.3757  72.5211   58791957\n",
       "2014-01-03  72.4857  72.5958  70.8560  70.9281   98303870\n",
       "2014-01-06  70.4653  71.6912  69.9605  71.3149  103359151\n",
       "2014-01-07  71.3660  71.5811  70.5276  70.8046   79432766\n",
       "2014-01-08  70.6436  71.5286  70.6279  71.2533   64686685"
      ]
     },
     "execution_count": 8,
     "metadata": {},
     "output_type": "execute_result"
    }
   ],
   "source": [
    "apple.head()"
   ]
  },
  {
   "cell_type": "markdown",
   "metadata": {},
   "source": [
    "visualize the evlution of the volume throughout the 30 first days"
   ]
  },
  {
   "cell_type": "code",
   "execution_count": 9,
   "metadata": {},
   "outputs": [
    {
     "data": {
      "text/plain": [
       "<matplotlib.axes._subplots.AxesSubplot at 0x7cb9490>"
      ]
     },
     "execution_count": 9,
     "metadata": {},
     "output_type": "execute_result"
    },
    {
     "data": {
      "image/png": "[encoded data removed]",
      "text/plain": [
       "<matplotlib.figure.Figure at 0x7c9be30>"
      ]
     },
     "metadata": {},
     "output_type": "display_data"
    }
   ],
   "source": [
    "apple['volume'].head(30).plot.line()"
   ]
  },
  {
   "cell_type": "markdown",
   "metadata": {},
   "source": [
    "**Starbucks Data:**"
   ]
  },
  {
   "cell_type": "code",
   "execution_count": 10,
   "metadata": {},
   "outputs": [],
   "source": [
    "stx = web.DataReader('SBUX','iex',start,end)"
   ]
  },
  {
   "cell_type": "code",
   "execution_count": 11,
   "metadata": {},
   "outputs": [
    {
     "data": {
      "text/html": [
       "<div>\n",
       "<style>\n",
       "    .dataframe thead tr:only-child th {\n",
       "        text-align: right;\n",
       "    }\n",
       "\n",
       "    .dataframe thead th {\n",
       "        text-align: left;\n",
       "    }\n",
       "\n",
       "    .dataframe tbody tr th {\n",
       "        vertical-align: top;\n",
       "    }\n",
       "</style>\n",
       "<table border=\"1\" class=\"dataframe\">\n",
       "  <thead>\n",
       "    <tr style=\"text-align: right;\">\n",
       "      <th></th>\n",
       "      <th>open</th>\n",
       "      <th>high</th>\n",
       "      <th>low</th>\n",
       "      <th>close</th>\n",
       "      <th>volume</th>\n",
       "    </tr>\n",
       "    <tr>\n",
       "      <th>date</th>\n",
       "      <th></th>\n",
       "      <th></th>\n",
       "      <th></th>\n",
       "      <th></th>\n",
       "      <th></th>\n",
       "    </tr>\n",
       "  </thead>\n",
       "  <tbody>\n",
       "    <tr>\n",
       "      <th>2014-01-02</th>\n",
       "      <td>36.0862</td>\n",
       "      <td>36.1786</td>\n",
       "      <td>35.5939</td>\n",
       "      <td>35.6701</td>\n",
       "      <td>8528022</td>\n",
       "    </tr>\n",
       "    <tr>\n",
       "      <th>2014-01-03</th>\n",
       "      <td>35.8134</td>\n",
       "      <td>35.9475</td>\n",
       "      <td>35.5638</td>\n",
       "      <td>35.5685</td>\n",
       "      <td>6545626</td>\n",
       "    </tr>\n",
       "    <tr>\n",
       "      <th>2014-01-06</th>\n",
       "      <td>35.5453</td>\n",
       "      <td>35.7533</td>\n",
       "      <td>35.1340</td>\n",
       "      <td>35.2079</td>\n",
       "      <td>10604900</td>\n",
       "    </tr>\n",
       "    <tr>\n",
       "      <th>2014-01-07</th>\n",
       "      <td>35.4298</td>\n",
       "      <td>35.7811</td>\n",
       "      <td>35.3466</td>\n",
       "      <td>35.6886</td>\n",
       "      <td>8180398</td>\n",
       "    </tr>\n",
       "    <tr>\n",
       "      <th>2014-01-08</th>\n",
       "      <td>35.7210</td>\n",
       "      <td>36.1217</td>\n",
       "      <td>35.6794</td>\n",
       "      <td>36.0677</td>\n",
       "      <td>10190576</td>\n",
       "    </tr>\n",
       "  </tbody>\n",
       "</table>\n",
       "</div>"
      ],
      "text/plain": [
       "               open     high      low    close    volume\n",
       "date                                                    \n",
       "2014-01-02  36.0862  36.1786  35.5939  35.6701   8528022\n",
       "2014-01-03  35.8134  35.9475  35.5638  35.5685   6545626\n",
       "2014-01-06  35.5453  35.7533  35.1340  35.2079  10604900\n",
       "2014-01-07  35.4298  35.7811  35.3466  35.6886   8180398\n",
       "2014-01-08  35.7210  36.1217  35.6794  36.0677  10190576"
      ]
     },
     "execution_count": 11,
     "metadata": {},
     "output_type": "execute_result"
    }
   ],
   "source": [
    "stx.head()"
   ]
  },
  {
   "cell_type": "code",
   "execution_count": 12,
   "metadata": {},
   "outputs": [],
   "source": [
    "import matplotlib.pyplot as plt\n",
    "%matplotlib inline"
   ]
  },
  {
   "cell_type": "code",
   "execution_count": null,
   "metadata": {},
   "outputs": [],
   "source": []
  }
 ],
 "metadata": {
  "kernelspec": {
   "display_name": "Python 3",
   "language": "python",
   "name": "python3"
  },
  "language_info": {
   "codemirror_mode": {
    "name": "ipython",
    "version": 3
   },
   "file_extension": ".py",
   "mimetype": "text/x-python",
   "name": "python",
   "nbconvert_exporter": "python",
   "pygments_lexer": "ipython3",
   "version": "3.6.1"
  }
 },
 "nbformat": 4,
 "nbformat_minor": 2
}
