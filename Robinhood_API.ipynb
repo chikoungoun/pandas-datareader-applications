{
 "cells": [
  {
   "cell_type": "markdown",
   "metadata": {},
   "source": [
    "# Acces Financial Data through 'Robinhood' API with Pandas_datareader"
   ]
  },
  {
   "cell_type": "markdown",
   "metadata": {},
   "source": [
    "Visualizing data analysis of stock prices"
   ]
  },
  {
   "cell_type": "markdown",
   "metadata": {},
   "source": [
    "### Imports"
   ]
  },
  {
   "cell_type": "code",
   "execution_count": 1,
   "metadata": {},
   "outputs": [],
   "source": [
    "#classics\n",
    "import pandas as pd\n",
    "import numpy as np"
   ]
  },
  {
   "cell_type": "code",
   "execution_count": 2,
   "metadata": {},
   "outputs": [],
   "source": [
    "#import pandas_datareader to acces the finance APIs\n",
    "import pandas_datareader.data as web\n",
    "import datetime"
   ]
  },
  {
   "cell_type": "code",
   "execution_count": 3,
   "metadata": {},
   "outputs": [],
   "source": [
    "#plotting libraries \n",
    "import matplotlib.pyplot as plt\n",
    "%matplotlib inline"
   ]
  },
  {
   "cell_type": "markdown",
   "metadata": {},
   "source": [
    "### Robinhood only allows to get the data up to 1 year"
   ]
  },
  {
   "cell_type": "code",
   "execution_count": 4,
   "metadata": {},
   "outputs": [],
   "source": [
    "#define  the time interval for the 6 last months\n",
    "start = datetime.datetime(2018,2,1)\n",
    "end = datetime.datetime(2018,11,1)"
   ]
  },
  {
   "cell_type": "markdown",
   "metadata": {},
   "source": [
    "### Get the Data"
   ]
  },
  {
   "cell_type": "markdown",
   "metadata": {},
   "source": [
    "We will be using the stock index of **Ford**, **Apple** and **Starbucks** during the defined timelapse"
   ]
  },
  {
   "cell_type": "markdown",
   "metadata": {},
   "source": [
    "**Ford Data : **"
   ]
  },
  {
   "cell_type": "code",
   "execution_count": 5,
   "metadata": {},
   "outputs": [],
   "source": [
    "f = web.DataReader('F', 'robinhood', start, end)"
   ]
  },
  {
   "cell_type": "code",
   "execution_count": 6,
   "metadata": {
    "scrolled": false
   },
   "outputs": [
    {
     "data": {
      "text/html": [
       "<div>\n",
       "<style>\n",
       "    .dataframe thead tr:only-child th {\n",
       "        text-align: right;\n",
       "    }\n",
       "\n",
       "    .dataframe thead th {\n",
       "        text-align: left;\n",
       "    }\n",
       "\n",
       "    .dataframe tbody tr th {\n",
       "        vertical-align: top;\n",
       "    }\n",
       "</style>\n",
       "<table border=\"1\" class=\"dataframe\">\n",
       "  <thead>\n",
       "    <tr style=\"text-align: right;\">\n",
       "      <th></th>\n",
       "      <th></th>\n",
       "      <th>close_price</th>\n",
       "      <th>high_price</th>\n",
       "      <th>interpolated</th>\n",
       "      <th>low_price</th>\n",
       "      <th>open_price</th>\n",
       "      <th>session</th>\n",
       "      <th>volume</th>\n",
       "    </tr>\n",
       "    <tr>\n",
       "      <th>symbol</th>\n",
       "      <th>begins_at</th>\n",
       "      <th></th>\n",
       "      <th></th>\n",
       "      <th></th>\n",
       "      <th></th>\n",
       "      <th></th>\n",
       "      <th></th>\n",
       "      <th></th>\n",
       "    </tr>\n",
       "  </thead>\n",
       "  <tbody>\n",
       "    <tr>\n",
       "      <th rowspan=\"10\" valign=\"top\">F</th>\n",
       "      <th>2017-11-17</th>\n",
       "      <td>11.204500</td>\n",
       "      <td>11.251200</td>\n",
       "      <td>False</td>\n",
       "      <td>11.181200</td>\n",
       "      <td>11.213900</td>\n",
       "      <td>reg</td>\n",
       "      <td>31117727</td>\n",
       "    </tr>\n",
       "    <tr>\n",
       "      <th>2017-11-20</th>\n",
       "      <td>11.316500</td>\n",
       "      <td>11.335200</td>\n",
       "      <td>False</td>\n",
       "      <td>11.213900</td>\n",
       "      <td>11.223200</td>\n",
       "      <td>reg</td>\n",
       "      <td>32352040</td>\n",
       "    </tr>\n",
       "    <tr>\n",
       "      <th>2017-11-21</th>\n",
       "      <td>11.307200</td>\n",
       "      <td>11.405100</td>\n",
       "      <td>False</td>\n",
       "      <td>11.307200</td>\n",
       "      <td>11.325800</td>\n",
       "      <td>reg</td>\n",
       "      <td>28510260</td>\n",
       "    </tr>\n",
       "    <tr>\n",
       "      <th>2017-11-22</th>\n",
       "      <td>11.260500</td>\n",
       "      <td>11.335200</td>\n",
       "      <td>False</td>\n",
       "      <td>11.241900</td>\n",
       "      <td>11.297800</td>\n",
       "      <td>reg</td>\n",
       "      <td>36184010</td>\n",
       "    </tr>\n",
       "    <tr>\n",
       "      <th>2017-11-24</th>\n",
       "      <td>11.288500</td>\n",
       "      <td>11.335200</td>\n",
       "      <td>False</td>\n",
       "      <td>11.223200</td>\n",
       "      <td>11.288500</td>\n",
       "      <td>reg</td>\n",
       "      <td>9549629</td>\n",
       "    </tr>\n",
       "    <tr>\n",
       "      <th>2017-11-27</th>\n",
       "      <td>11.297800</td>\n",
       "      <td>11.372500</td>\n",
       "      <td>False</td>\n",
       "      <td>11.251200</td>\n",
       "      <td>11.279200</td>\n",
       "      <td>reg</td>\n",
       "      <td>28525156</td>\n",
       "    </tr>\n",
       "    <tr>\n",
       "      <th>2017-11-28</th>\n",
       "      <td>11.391100</td>\n",
       "      <td>11.419100</td>\n",
       "      <td>False</td>\n",
       "      <td>11.269800</td>\n",
       "      <td>11.335200</td>\n",
       "      <td>reg</td>\n",
       "      <td>33199323</td>\n",
       "    </tr>\n",
       "    <tr>\n",
       "      <th>2017-11-29</th>\n",
       "      <td>11.717700</td>\n",
       "      <td>11.727000</td>\n",
       "      <td>False</td>\n",
       "      <td>11.409800</td>\n",
       "      <td>11.419100</td>\n",
       "      <td>reg</td>\n",
       "      <td>64865974</td>\n",
       "    </tr>\n",
       "    <tr>\n",
       "      <th>2017-11-30</th>\n",
       "      <td>11.680300</td>\n",
       "      <td>11.801600</td>\n",
       "      <td>False</td>\n",
       "      <td>11.587000</td>\n",
       "      <td>11.689700</td>\n",
       "      <td>reg</td>\n",
       "      <td>49224189</td>\n",
       "    </tr>\n",
       "    <tr>\n",
       "      <th>2017-12-01</th>\n",
       "      <td>11.736300</td>\n",
       "      <td>11.848300</td>\n",
       "      <td>False</td>\n",
       "      <td>11.521700</td>\n",
       "      <td>11.773600</td>\n",
       "      <td>reg</td>\n",
       "      <td>52458736</td>\n",
       "    </tr>\n",
       "  </tbody>\n",
       "</table>\n",
       "</div>"
      ],
      "text/plain": [
       "                  close_price high_price  interpolated  low_price open_price  \\\n",
       "symbol begins_at                                                               \n",
       "F      2017-11-17   11.204500  11.251200         False  11.181200  11.213900   \n",
       "       2017-11-20   11.316500  11.335200         False  11.213900  11.223200   \n",
       "       2017-11-21   11.307200  11.405100         False  11.307200  11.325800   \n",
       "       2017-11-22   11.260500  11.335200         False  11.241900  11.297800   \n",
       "       2017-11-24   11.288500  11.335200         False  11.223200  11.288500   \n",
       "       2017-11-27   11.297800  11.372500         False  11.251200  11.279200   \n",
       "       2017-11-28   11.391100  11.419100         False  11.269800  11.335200   \n",
       "       2017-11-29   11.717700  11.727000         False  11.409800  11.419100   \n",
       "       2017-11-30   11.680300  11.801600         False  11.587000  11.689700   \n",
       "       2017-12-01   11.736300  11.848300         False  11.521700  11.773600   \n",
       "\n",
       "                  session    volume  \n",
       "symbol begins_at                     \n",
       "F      2017-11-17     reg  31117727  \n",
       "       2017-11-20     reg  32352040  \n",
       "       2017-11-21     reg  28510260  \n",
       "       2017-11-22     reg  36184010  \n",
       "       2017-11-24     reg   9549629  \n",
       "       2017-11-27     reg  28525156  \n",
       "       2017-11-28     reg  33199323  \n",
       "       2017-11-29     reg  64865974  \n",
       "       2017-11-30     reg  49224189  \n",
       "       2017-12-01     reg  52458736  "
      ]
     },
     "execution_count": 6,
     "metadata": {},
     "output_type": "execute_result"
    }
   ],
   "source": [
    "f.head(10)"
   ]
  },
  {
   "cell_type": "markdown",
   "metadata": {},
   "source": [
    "visualize the evolution of 'highs' throughout the 30 first days"
   ]
  },
  {
   "cell_type": "code",
   "execution_count": 7,
   "metadata": {
    "scrolled": true
   },
   "outputs": [
    {
     "name": "stdout",
     "output_type": "stream",
     "text": [
      "<class 'pandas.core.frame.DataFrame'>\n",
      "MultiIndex: 252 entries, (F, 2017-11-17 00:00:00) to (F, 2018-11-16 00:00:00)\n",
      "Data columns (total 7 columns):\n",
      "close_price     252 non-null object\n",
      "high_price      252 non-null object\n",
      "interpolated    252 non-null bool\n",
      "low_price       252 non-null object\n",
      "open_price      252 non-null object\n",
      "session         252 non-null object\n",
      "volume          252 non-null int64\n",
      "dtypes: bool(1), int64(1), object(5)\n",
      "memory usage: 9.9+ KB\n"
     ]
    }
   ],
   "source": [
    "f.info()"
   ]
  },
  {
   "cell_type": "markdown",
   "metadata": {},
   "source": [
    "## As noticed here, the datatypes are mostly object, and therefore couldn't be graphed"
   ]
  },
  {
   "cell_type": "markdown",
   "metadata": {},
   "source": [
    "changing the datatype of the columns we are aiming to graph (**high_price, volume, close_price**)"
   ]
  },
  {
   "cell_type": "code",
   "execution_count": 8,
   "metadata": {},
   "outputs": [],
   "source": [
    "f['high_price'] = f.high_price.astype(float)"
   ]
  },
  {
   "cell_type": "code",
   "execution_count": 9,
   "metadata": {
    "scrolled": true
   },
   "outputs": [
    {
     "data": {
      "text/plain": [
       "close_price      object\n",
       "high_price      float64\n",
       "interpolated       bool\n",
       "low_price        object\n",
       "open_price       object\n",
       "session          object\n",
       "volume            int64\n",
       "dtype: object"
      ]
     },
     "execution_count": 9,
     "metadata": {},
     "output_type": "execute_result"
    }
   ],
   "source": [
    "f.dtypes"
   ]
  },
  {
   "cell_type": "code",
   "execution_count": 10,
   "metadata": {},
   "outputs": [
    {
     "data": {
      "text/plain": [
       "<matplotlib.axes._subplots.AxesSubplot at 0x80476d0>"
      ]
     },
     "execution_count": 10,
     "metadata": {},
     "output_type": "execute_result"
    },
    {
     "data": {
      "image/png": "[encoded data removed]",
      "text/plain": [
       "<matplotlib.figure.Figure at 0x7ef3ff0>"
      ]
     },
     "metadata": {},
     "output_type": "display_data"
    }
   ],
   "source": [
    "f['high_price'].plot.line()"
   ]
  },
  {
   "cell_type": "markdown",
   "metadata": {},
   "source": [
    "**Apple Data : **"
   ]
  },
  {
   "cell_type": "code",
   "execution_count": 11,
   "metadata": {},
   "outputs": [],
   "source": [
    "apple = web.DataReader('AAPL','robinhood',start,end)"
   ]
  },
  {
   "cell_type": "code",
   "execution_count": 12,
   "metadata": {
    "scrolled": false
   },
   "outputs": [
    {
     "data": {
      "text/html": [
       "<div>\n",
       "<style>\n",
       "    .dataframe thead tr:only-child th {\n",
       "        text-align: right;\n",
       "    }\n",
       "\n",
       "    .dataframe thead th {\n",
       "        text-align: left;\n",
       "    }\n",
       "\n",
       "    .dataframe tbody tr th {\n",
       "        vertical-align: top;\n",
       "    }\n",
       "</style>\n",
       "<table border=\"1\" class=\"dataframe\">\n",
       "  <thead>\n",
       "    <tr style=\"text-align: right;\">\n",
       "      <th></th>\n",
       "      <th></th>\n",
       "      <th>close_price</th>\n",
       "      <th>high_price</th>\n",
       "      <th>interpolated</th>\n",
       "      <th>low_price</th>\n",
       "      <th>open_price</th>\n",
       "      <th>session</th>\n",
       "      <th>volume</th>\n",
       "    </tr>\n",
       "    <tr>\n",
       "      <th>symbol</th>\n",
       "      <th>begins_at</th>\n",
       "      <th></th>\n",
       "      <th></th>\n",
       "      <th></th>\n",
       "      <th></th>\n",
       "      <th></th>\n",
       "      <th></th>\n",
       "      <th></th>\n",
       "    </tr>\n",
       "  </thead>\n",
       "  <tbody>\n",
       "    <tr>\n",
       "      <th rowspan=\"5\" valign=\"top\">AAPL</th>\n",
       "      <th>2017-11-17</th>\n",
       "      <td>167.633300</td>\n",
       "      <td>168.855000</td>\n",
       "      <td>False</td>\n",
       "      <td>167.130800</td>\n",
       "      <td>168.510100</td>\n",
       "      <td>reg</td>\n",
       "      <td>21899544</td>\n",
       "    </tr>\n",
       "    <tr>\n",
       "      <th>2017-11-20</th>\n",
       "      <td>167.465800</td>\n",
       "      <td>168.037200</td>\n",
       "      <td>False</td>\n",
       "      <td>167.052000</td>\n",
       "      <td>167.771200</td>\n",
       "      <td>reg</td>\n",
       "      <td>16262447</td>\n",
       "    </tr>\n",
       "    <tr>\n",
       "      <th>2017-11-21</th>\n",
       "      <td>170.579100</td>\n",
       "      <td>171.130800</td>\n",
       "      <td>False</td>\n",
       "      <td>168.254000</td>\n",
       "      <td>168.254000</td>\n",
       "      <td>reg</td>\n",
       "      <td>25131295</td>\n",
       "    </tr>\n",
       "    <tr>\n",
       "      <th>2017-11-22</th>\n",
       "      <td>172.372100</td>\n",
       "      <td>172.411600</td>\n",
       "      <td>False</td>\n",
       "      <td>170.490400</td>\n",
       "      <td>170.795800</td>\n",
       "      <td>reg</td>\n",
       "      <td>25588925</td>\n",
       "    </tr>\n",
       "    <tr>\n",
       "      <th>2017-11-24</th>\n",
       "      <td>172.382000</td>\n",
       "      <td>172.904200</td>\n",
       "      <td>False</td>\n",
       "      <td>172.062700</td>\n",
       "      <td>172.510100</td>\n",
       "      <td>reg</td>\n",
       "      <td>14026673</td>\n",
       "    </tr>\n",
       "  </tbody>\n",
       "</table>\n",
       "</div>"
      ],
      "text/plain": [
       "                  close_price  high_price  interpolated   low_price  \\\n",
       "symbol begins_at                                                      \n",
       "AAPL   2017-11-17  167.633300  168.855000         False  167.130800   \n",
       "       2017-11-20  167.465800  168.037200         False  167.052000   \n",
       "       2017-11-21  170.579100  171.130800         False  168.254000   \n",
       "       2017-11-22  172.372100  172.411600         False  170.490400   \n",
       "       2017-11-24  172.382000  172.904200         False  172.062700   \n",
       "\n",
       "                   open_price session    volume  \n",
       "symbol begins_at                                 \n",
       "AAPL   2017-11-17  168.510100     reg  21899544  \n",
       "       2017-11-20  167.771200     reg  16262447  \n",
       "       2017-11-21  168.254000     reg  25131295  \n",
       "       2017-11-22  170.795800     reg  25588925  \n",
       "       2017-11-24  172.510100     reg  14026673  "
      ]
     },
     "execution_count": 12,
     "metadata": {},
     "output_type": "execute_result"
    }
   ],
   "source": [
    "apple.head()"
   ]
  },
  {
   "cell_type": "markdown",
   "metadata": {},
   "source": [
    "visualize the evlution of the volume throughout the 30 first days"
   ]
  },
  {
   "cell_type": "code",
   "execution_count": 13,
   "metadata": {},
   "outputs": [],
   "source": [
    "apple['volume'] = apple.high_price.astype(float)"
   ]
  },
  {
   "cell_type": "code",
   "execution_count": 14,
   "metadata": {},
   "outputs": [
    {
     "data": {
      "text/plain": [
       "<matplotlib.axes._subplots.AxesSubplot at 0x91268b0>"
      ]
     },
     "execution_count": 14,
     "metadata": {},
     "output_type": "execute_result"
    },
    {
     "data": {
      "image/png": "[encoded data removed]",
      "text/plain": [
       "<matplotlib.figure.Figure at 0x9126cf0>"
      ]
     },
     "metadata": {},
     "output_type": "display_data"
    }
   ],
   "source": [
    "apple['volume'].head(30).plot.line()"
   ]
  },
  {
   "cell_type": "markdown",
   "metadata": {},
   "source": [
    "**Starbucks Data:**"
   ]
  },
  {
   "cell_type": "code",
   "execution_count": 15,
   "metadata": {},
   "outputs": [],
   "source": [
    "stx = web.DataReader('SBUX','robinhood',start,end)"
   ]
  },
  {
   "cell_type": "code",
   "execution_count": 16,
   "metadata": {
    "scrolled": true
   },
   "outputs": [
    {
     "data": {
      "text/html": [
       "<div>\n",
       "<style>\n",
       "    .dataframe thead tr:only-child th {\n",
       "        text-align: right;\n",
       "    }\n",
       "\n",
       "    .dataframe thead th {\n",
       "        text-align: left;\n",
       "    }\n",
       "\n",
       "    .dataframe tbody tr th {\n",
       "        vertical-align: top;\n",
       "    }\n",
       "</style>\n",
       "<table border=\"1\" class=\"dataframe\">\n",
       "  <thead>\n",
       "    <tr style=\"text-align: right;\">\n",
       "      <th></th>\n",
       "      <th></th>\n",
       "      <th>close_price</th>\n",
       "      <th>high_price</th>\n",
       "      <th>interpolated</th>\n",
       "      <th>low_price</th>\n",
       "      <th>open_price</th>\n",
       "      <th>session</th>\n",
       "      <th>volume</th>\n",
       "    </tr>\n",
       "    <tr>\n",
       "      <th>symbol</th>\n",
       "      <th>begins_at</th>\n",
       "      <th></th>\n",
       "      <th></th>\n",
       "      <th></th>\n",
       "      <th></th>\n",
       "      <th></th>\n",
       "      <th></th>\n",
       "      <th></th>\n",
       "    </tr>\n",
       "  </thead>\n",
       "  <tbody>\n",
       "    <tr>\n",
       "      <th rowspan=\"5\" valign=\"top\">SBUX</th>\n",
       "      <th>2017-11-17</th>\n",
       "      <td>55.640100</td>\n",
       "      <td>56.128800</td>\n",
       "      <td>False</td>\n",
       "      <td>55.552200</td>\n",
       "      <td>55.943100</td>\n",
       "      <td>reg</td>\n",
       "      <td>6311519</td>\n",
       "    </tr>\n",
       "    <tr>\n",
       "      <th>2017-11-20</th>\n",
       "      <td>55.522900</td>\n",
       "      <td>55.757400</td>\n",
       "      <td>False</td>\n",
       "      <td>55.298100</td>\n",
       "      <td>55.386000</td>\n",
       "      <td>reg</td>\n",
       "      <td>6360086</td>\n",
       "    </tr>\n",
       "    <tr>\n",
       "      <th>2017-11-21</th>\n",
       "      <td>55.962700</td>\n",
       "      <td>56.255900</td>\n",
       "      <td>False</td>\n",
       "      <td>55.591300</td>\n",
       "      <td>55.669500</td>\n",
       "      <td>reg</td>\n",
       "      <td>6284259</td>\n",
       "    </tr>\n",
       "    <tr>\n",
       "      <th>2017-11-22</th>\n",
       "      <td>55.845400</td>\n",
       "      <td>55.884500</td>\n",
       "      <td>False</td>\n",
       "      <td>55.508200</td>\n",
       "      <td>55.777000</td>\n",
       "      <td>reg</td>\n",
       "      <td>7309073</td>\n",
       "    </tr>\n",
       "    <tr>\n",
       "      <th>2017-11-24</th>\n",
       "      <td>55.513100</td>\n",
       "      <td>55.894300</td>\n",
       "      <td>False</td>\n",
       "      <td>55.425100</td>\n",
       "      <td>55.894300</td>\n",
       "      <td>reg</td>\n",
       "      <td>3479177</td>\n",
       "    </tr>\n",
       "  </tbody>\n",
       "</table>\n",
       "</div>"
      ],
      "text/plain": [
       "                  close_price high_price  interpolated  low_price open_price  \\\n",
       "symbol begins_at                                                               \n",
       "SBUX   2017-11-17   55.640100  56.128800         False  55.552200  55.943100   \n",
       "       2017-11-20   55.522900  55.757400         False  55.298100  55.386000   \n",
       "       2017-11-21   55.962700  56.255900         False  55.591300  55.669500   \n",
       "       2017-11-22   55.845400  55.884500         False  55.508200  55.777000   \n",
       "       2017-11-24   55.513100  55.894300         False  55.425100  55.894300   \n",
       "\n",
       "                  session   volume  \n",
       "symbol begins_at                    \n",
       "SBUX   2017-11-17     reg  6311519  \n",
       "       2017-11-20     reg  6360086  \n",
       "       2017-11-21     reg  6284259  \n",
       "       2017-11-22     reg  7309073  \n",
       "       2017-11-24     reg  3479177  "
      ]
     },
     "execution_count": 16,
     "metadata": {},
     "output_type": "execute_result"
    }
   ],
   "source": [
    "stx.head()"
   ]
  },
  {
   "cell_type": "markdown",
   "metadata": {},
   "source": [
    "visualize the evolution of the closing price throughout the 30 first days"
   ]
  },
  {
   "cell_type": "code",
   "execution_count": 17,
   "metadata": {},
   "outputs": [],
   "source": [
    "stx['close_price'] = stx.high_price.astype(float)"
   ]
  },
  {
   "cell_type": "code",
   "execution_count": 18,
   "metadata": {},
   "outputs": [
    {
     "data": {
      "text/plain": [
       "<matplotlib.axes._subplots.AxesSubplot at 0x9136ef0>"
      ]
     },
     "execution_count": 18,
     "metadata": {},
     "output_type": "execute_result"
    },
    {
     "data": {
      "image/png": "[encoded data removed]",
      "text/plain": [
       "<matplotlib.figure.Figure at 0x918cff0>"
      ]
     },
     "metadata": {},
     "output_type": "display_data"
    }
   ],
   "source": [
    "stx['close_price'].head(30).plot.line()"
   ]
  },
  {
   "cell_type": "code",
   "execution_count": null,
   "metadata": {},
   "outputs": [],
   "source": []
  },
  {
   "cell_type": "code",
   "execution_count": null,
   "metadata": {},
   "outputs": [],
   "source": []
  },
  {
   "cell_type": "code",
   "execution_count": null,
   "metadata": {},
   "outputs": [],
   "source": []
  }
 ],
 "metadata": {
  "kernelspec": {
   "display_name": "Python 3",
   "language": "python",
   "name": "python3"
  },
  "language_info": {
   "codemirror_mode": {
    "name": "ipython",
    "version": 3
   },
   "file_extension": ".py",
   "mimetype": "text/x-python",
   "name": "python",
   "nbconvert_exporter": "python",
   "pygments_lexer": "ipython3",
   "version": "3.6.1"
  }
 },
 "nbformat": 4,
 "nbformat_minor": 2
}
